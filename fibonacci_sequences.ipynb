{
 "cells": [
  {
   "cell_type": "markdown",
   "metadata": {
    "slideshow": {
     "slide_type": "slide"
    }
   },
   "source": [
    "<h1><center>Fibonacci Sequences for Fun & Profit </center></h1>\n",
    "<h1><center>Brian Spiering </center></h1>\n",
    "<center><img src=\"http://www.learning-mind.com/wp-content/uploads/2016/05/What-is-Fibonacci-Sequence.jpg\" width=\"50%\"/></center>"
   ]
  },
  {
   "cell_type": "markdown",
   "metadata": {
    "slideshow": {
     "slide_type": "slide"
    }
   },
   "source": [
    "What is a Fibonacci sequence?\n",
    "-------\n",
    "\n",
    "1, 1, 2, 3, 5, 8, 13\n",
    "\n",
    "0 + 1 = 1  \n",
    "1 + 1 = 2   \n",
    "1 + 2 = 3  \n",
    "2 + 3 = 5  \n",
    "3 + 5 = 8   \n",
    "5 + 8 = 13"
   ]
  },
  {
   "cell_type": "markdown",
   "metadata": {
    "slideshow": {
     "slide_type": "slide"
    }
   },
   "source": [
    "Where do Fibonacci sequences appear?\n",
    "-----\n",
    "\n",
    "<center><img src=\"https://worldtruth.tv/wp-content/uploads/2016/01/1-fibonacci-sequence1.jpg\" width=\"75%\"/></center>\n",
    "\n",
    "<b><center>__Golden Spiral__ 🐚</center><b>"
   ]
  },
  {
   "cell_type": "markdown",
   "metadata": {
    "slideshow": {
     "slide_type": "slide"
    }
   },
   "source": [
    "<center><img src=\"images/nature.png\" width=\"110%\"/></center>"
   ]
  },
  {
   "cell_type": "markdown",
   "metadata": {
    "slideshow": {
     "slide_type": "slide"
    }
   },
   "source": [
    "<center><img src=\"images/trump.png\" width=\"90%\"/></center>"
   ]
  },
  {
   "cell_type": "markdown",
   "metadata": {
    "slideshow": {
     "slide_type": "slide"
    }
   },
   "source": [
    "What are the ways to caculate a Fib sequence in Python🐍?\n",
    "------"
   ]
  },
  {
   "cell_type": "markdown",
   "metadata": {
    "slideshow": {
     "slide_type": "fragment"
    }
   },
   "source": [
    "- Recursion\n",
    "- Dynamic Programming\n",
    "- Imperative\n",
    "- Closed form\n",
    "- Functional"
   ]
  },
  {
   "cell_type": "code",
   "execution_count": 29,
   "metadata": {
    "slideshow": {
     "slide_type": "slide"
    }
   },
   "outputs": [],
   "source": [
    " def test_fib(f, test_large=False): \n",
    "    \"Test that a Fibonacci function returns the correct value\"\n",
    "    fib_sequence = {0: 0, # Index -> Expeced Fib value\n",
    "                    1: 1,\n",
    "                    2: 1,\n",
    "                    3: 2,\n",
    "                    9: 34,\n",
    "                    25: 75_025,\n",
    "                   }\n",
    "\n",
    "    for key, fib_value in fib_sequence.items():\n",
    "        assert f(key) == fib_value\n",
    "\n",
    "    if test_large:\n",
    "        assert f(32) == 21_78_309\n",
    "                    \n",
    "    print('tests pass 😁')"
   ]
  },
  {
   "cell_type": "code",
   "execution_count": 30,
   "metadata": {
    "slideshow": {
     "slide_type": "slide"
    }
   },
   "outputs": [],
   "source": [
    " def fib_recursive(n):\n",
    "    \"Calculate nth Fibonacci number using recursion\"\n",
    "    if n == 0: return 0\n",
    "    if n == 1: return 1\n",
    "    return fib_recursive(n-1) + fib_recursive(n-2)"
   ]
  },
  {
   "cell_type": "code",
   "execution_count": 41,
   "metadata": {
    "slideshow": {
     "slide_type": "fragment"
    }
   },
   "outputs": [
    {
     "data": {
      "text/plain": [
       "[0, 1, 1, 2, 3, 5, 8, 13, 21, 34]"
      ]
     },
     "execution_count": 41,
     "metadata": {},
     "output_type": "execute_result"
    }
   ],
   "source": [
    "# Take a peek to be sure it is correct 👀\n",
    "[fib_recursive(n) for n in range(10)]"
   ]
  },
  {
   "cell_type": "code",
   "execution_count": 42,
   "metadata": {
    "slideshow": {
     "slide_type": "slide"
    }
   },
   "outputs": [
    {
     "name": "stdout",
     "output_type": "stream",
     "text": [
      "tests pass 😁\n"
     ]
    }
   ],
   "source": [
    "# Let's test it \n",
    "test_fib(fib_recursive) "
   ]
  },
  {
   "cell_type": "code",
   "execution_count": 43,
   "metadata": {
    "slideshow": {
     "slide_type": "fragment"
    }
   },
   "outputs": [
    {
     "name": "stdout",
     "output_type": "stream",
     "text": [
      "tests pass 😁\n"
     ]
    }
   ],
   "source": [
    "test_fib(fib_recursive, test_large=True) "
   ]
  },
  {
   "cell_type": "markdown",
   "metadata": {
    "slideshow": {
     "slide_type": "slide"
    }
   },
   "source": [
    "<center><img src=\"https://he-s3.s3.amazonaws.com/media/uploads/6b68f98.png\" width=\"100%\"/></center>"
   ]
  },
  {
   "cell_type": "code",
   "execution_count": 34,
   "metadata": {
    "slideshow": {
     "slide_type": "slide"
    }
   },
   "outputs": [
    {
     "name": "stdout",
     "output_type": "stream",
     "text": [
      "tests pass 😁\n"
     ]
    }
   ],
   "source": [
    "from functools import lru_cache as memo\n",
    "\n",
    "@memo(maxsize=32)\n",
    "def fib_cache(n):\n",
    "    \"Calculate nth Fibonacci number using dynamic programming\"\n",
    "    if n == 0: return 0\n",
    "    if n == 1: return 1\n",
    "    return fib_cache(n-1) + fib_cache(n-2)\n",
    "\n",
    "test_fib(fib_cache)"
   ]
  },
  {
   "cell_type": "code",
   "execution_count": 35,
   "metadata": {
    "slideshow": {
     "slide_type": "fragment"
    }
   },
   "outputs": [
    {
     "name": "stdout",
     "output_type": "stream",
     "text": [
      "tests pass 😁\n"
     ]
    }
   ],
   "source": [
    "test_fib(fib_cache, test_large=True)"
   ]
  },
  {
   "cell_type": "code",
   "execution_count": 45,
   "metadata": {
    "slideshow": {
     "slide_type": "slide"
    }
   },
   "outputs": [
    {
     "name": "stdout",
     "output_type": "stream",
     "text": [
      "tests pass 😁\n"
     ]
    }
   ],
   "source": [
    "def fib_subproblems(n):\n",
    "    \"Calculate nth Fibonacci number as a sequence\"\n",
    "    fib_seq = [0, 1]\n",
    "    for i in range(n):\n",
    "         fib_seq.append(fib_seq[-1]+fib_seq[-2])\n",
    "    return fib_seq[-2]\n",
    "\n",
    "test_fib(fib_subproblems, test_large=True)"
   ]
  },
  {
   "cell_type": "markdown",
   "metadata": {
    "slideshow": {
     "slide_type": "slide"
    }
   },
   "source": [
    "Big O Analysis of Imperative Fib Function\n",
    "-----\n",
    "\n",
    "Time complexity is O(n)"
   ]
  },
  {
   "cell_type": "markdown",
   "metadata": {
    "slideshow": {
     "slide_type": "fragment"
    }
   },
   "source": [
    "Space complexity is O(n) 👈 😱"
   ]
  },
  {
   "cell_type": "code",
   "execution_count": 37,
   "metadata": {
    "slideshow": {
     "slide_type": "slide"
    }
   },
   "outputs": [
    {
     "name": "stdout",
     "output_type": "stream",
     "text": [
      "tests pass 😁\n"
     ]
    }
   ],
   "source": [
    "def fib_swap(n):\n",
    "    \"Calculate nth Fibonacci number only keeping recent values\"\n",
    "    a, b = 0, 1\n",
    "    for _ in range(n):\n",
    "        a, b = b, a+b\n",
    "    return a \n",
    "\n",
    "test_fib(fib_swap, test_large=True)"
   ]
  },
  {
   "cell_type": "markdown",
   "metadata": {
    "slideshow": {
     "slide_type": "slide"
    }
   },
   "source": [
    "What is the best Big 0 for time complexity?\n",
    "------"
   ]
  },
  {
   "cell_type": "markdown",
   "metadata": {
    "slideshow": {
     "slide_type": "fragment"
    }
   },
   "source": [
    "O(1) - Constant time"
   ]
  },
  {
   "cell_type": "markdown",
   "metadata": {
    "slideshow": {
     "slide_type": "fragment"
    }
   },
   "source": [
    "Constant time in math comes from a closed-form or analytical solution"
   ]
  },
  {
   "cell_type": "markdown",
   "metadata": {
    "slideshow": {
     "slide_type": "slide"
    }
   },
   "source": [
    "Binet's Formula\n",
    "-----\n",
    "\n",
    "<center><img src=\"https://i.stack.imgur.com/elWkx.png\" width=\"100%\"/></center>\n",
    "\n",
    "MathOps FTW🤘!"
   ]
  },
  {
   "cell_type": "code",
   "execution_count": 38,
   "metadata": {
    "slideshow": {
     "slide_type": "slide"
    }
   },
   "outputs": [
    {
     "name": "stdout",
     "output_type": "stream",
     "text": [
      "tests pass 😁\n"
     ]
    }
   ],
   "source": [
    "from math import sqrt\n",
    "\n",
    "def fib_binet(n):\n",
    "    \"Calculate nth Fibonacci number using Binet's formula\"\n",
    "    first_term  = (1/sqrt(5))*((1+sqrt(5))/2)**n\n",
    "    second_term = (1/sqrt(5))*((1-sqrt(5))/2)**n\n",
    "    return round(first_term - second_term)\n",
    "\n",
    "test_fib(fib_binet, test_large=True)"
   ]
  },
  {
   "cell_type": "markdown",
   "metadata": {
    "slideshow": {
     "slide_type": "slide"
    }
   },
   "source": [
    " Fibonacci the Functional Way 🧙\n",
    " -----"
   ]
  },
  {
   "cell_type": "code",
   "execution_count": 44,
   "metadata": {
    "slideshow": {
     "slide_type": "fragment"
    }
   },
   "outputs": [],
   "source": [
    "def fib_gen():\n",
    "    \"A Fibonacci sequence generator\"\n",
    "    a, b = 0, 1\n",
    "    while True:\n",
    "        a, b = b, a+b\n",
    "        yield a # Switched from a return statement"
   ]
  },
  {
   "cell_type": "code",
   "execution_count": 40,
   "metadata": {
    "slideshow": {
     "slide_type": "slide"
    }
   },
   "outputs": [
    {
     "name": "stdout",
     "output_type": "stream",
     "text": [
      "43,466,557,686,937,456,435,688,527,675,040,625,802,564,660,517,371,780,402,481,729,089,536,555,417,949,051,890,403,879,840,079,255,169,295,922,593,080,322,634,775,209,689,623,239,873,322,471,161,642,996,440,906,533,187,938,298,969,649,928,516,003,704,476,137,795,166,849,228,875\n"
     ]
    }
   ],
   "source": [
    "from itertools import islice\n",
    "\n",
    "n = 1_000\n",
    "big_fib = next(islice(fib_gen(), n-1, n))\n",
    "print(f\"{big_fib:,}\")"
   ]
  },
  {
   "cell_type": "markdown",
   "metadata": {
    "slideshow": {
     "slide_type": "skip"
    }
   },
   "source": [
    "`itertools` are memory efficient & super fast  🐰\n",
    "-----\n",
    "\n",
    "`islice`  is magic 🎩\n",
    "------"
   ]
  },
  {
   "cell_type": "markdown",
   "metadata": {
    "slideshow": {
     "slide_type": "slide"
    }
   },
   "source": [
    "Takeaways 📝\n",
    "----\n",
    "\n",
    "- Often there are many ways to do something (with tradeoffs)\n",
    "- A little bit of math helps\n",
    "- Python has speed tricks"
   ]
  },
  {
   "cell_type": "markdown",
   "metadata": {
    "slideshow": {
     "slide_type": "slide"
    }
   },
   "source": [
    "<h1><center>The End 🛑</center></h1> <br>\n",
    "<center><a href=\"https://github.com/brianspiering/fibonacci_sequences\">github.com/brianspiering/fibonacci_sequences</a></center>\n"
   ]
  },
  {
   "cell_type": "markdown",
   "metadata": {
    "slideshow": {
     "slide_type": "slide"
    }
   },
   "source": [
    "<br>\n",
    "<br> \n",
    "<br>"
   ]
  }
 ],
 "metadata": {
  "celltoolbar": "Slideshow",
  "kernelspec": {
   "display_name": "Python 3",
   "language": "python",
   "name": "python3"
  },
  "language_info": {
   "codemirror_mode": {
    "name": "ipython",
    "version": 3
   },
   "file_extension": ".py",
   "mimetype": "text/x-python",
   "name": "python",
   "nbconvert_exporter": "python",
   "pygments_lexer": "ipython3",
   "version": "3.6.6"
  }
 },
 "nbformat": 4,
 "nbformat_minor": 2
}
